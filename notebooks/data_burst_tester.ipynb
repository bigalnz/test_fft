{
 "cells": [
  {
   "cell_type": "code",
   "execution_count": 71,
   "metadata": {},
   "outputs": [],
   "source": [
    "import datetime as dt\n",
    "from dataclasses import dataclass\n",
    "from typing import TypedDict\n",
    "from enum import Enum\n",
    "\n",
    "@dataclass\n",
    "class ChickTimerStatus():\n",
    "    DaysSinceStatusChanged: int\n",
    "    DaysSinceHatch: int\n",
    "    DaysSinceDesertionTriggered: int\n",
    "    TimeOfEmergence: int\n",
    "    WeeksOfBatteryLeft: int\n",
    "    ActivityYesterday: int\n",
    "    ActivityTwoDaysAgo: int\n",
    "    MeanActivity: int\n",
    "\n",
    "class ChickTimerMode(Enum):\n",
    "    NotIncubating = 30\n",
    "    Incubating = 48\n",
    "    Mortality = 80\n",
    "\n",
    "class ChickTimer():\n",
    "    status : ChickTimerStatus\n",
    "    channel : int\n",
    "\n",
    "    def __init__(self):\n",
    "        self.status = ChickTimerStatus(\n",
    "            DaysSinceStatusChanged = 0,\n",
    "            DaysSinceHatch = 1,\n",
    "            DaysSinceDesertionTriggered = 2,\n",
    "            TimeOfEmergence = 3,\n",
    "            WeeksOfBatteryLeft = 10,\n",
    "            ActivityYesterday = 0,\n",
    "            ActivityTwoDaysAgo = 0,\n",
    "            MeanActivity = 0\n",
    "        )\n",
    "        self.channel = 0\n",
    "\n",
    "    def __str__(self):\n",
    "        return f'ChickTimer:\\n\\t{self.status}\\n\\tChannel: {self.channel}'"
   ]
  },
  {
   "cell_type": "code",
   "execution_count": 72,
   "metadata": {},
   "outputs": [
    {
     "name": "stdout",
     "output_type": "stream",
     "text": [
      "ChickTimer:\n",
      "\tChickTimerStatus(DaysSinceStatusChanged=0, DaysSinceHatch=1, DaysSinceDesertionTriggered=2, TimeOfEmergence=3, WeeksOfBatteryLeft=10, ActivityYesterday=0, ActivityTwoDaysAgo=0, MeanActivity=0)\n",
      "\tChannel: 0\n",
      "ChickTimer:\n",
      "\tChickTimerStatus(DaysSinceStatusChanged=0, DaysSinceHatch=3, DaysSinceDesertionTriggered=2, TimeOfEmergence=3, WeeksOfBatteryLeft=10, ActivityYesterday=0, ActivityTwoDaysAgo=0, MeanActivity=0)\n",
      "\tChannel: 0\n"
     ]
    }
   ],
   "source": [
    "ct = ChickTimer()\n",
    "print(ct)\n",
    "ct.status.DaysSinceHatch = 3\n",
    "print(ct)"
   ]
  }
 ],
 "metadata": {
  "kernelspec": {
   "display_name": "chicktimer",
   "language": "python",
   "name": "python3"
  },
  "language_info": {
   "codemirror_mode": {
    "name": "ipython",
    "version": 3
   },
   "file_extension": ".py",
   "mimetype": "text/x-python",
   "name": "python",
   "nbconvert_exporter": "python",
   "pygments_lexer": "ipython3",
   "version": "3.11.7"
  }
 },
 "nbformat": 4,
 "nbformat_minor": 2
}
