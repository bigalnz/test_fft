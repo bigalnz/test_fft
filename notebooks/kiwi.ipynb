{
 "cells": [
  {
   "cell_type": "code",
   "execution_count": 6,
   "metadata": {},
   "outputs": [],
   "source": [
    "import numpy as np\n",
    "import pylab as plt\n",
    "import scipy\n",
    "\n",
    "def db(x):\n",
    "    return 10*np.log10(x)"
   ]
  },
  {
   "cell_type": "code",
   "execution_count": 12,
   "metadata": {},
   "outputs": [],
   "source": [
    "import scipy.signal as signal\n",
    "d = np.fromfile(open(\"../data/test_multiple_v2.fc32\"), dtype=np.complex64)\n",
    "\n",
    "f0 = 160.425e6    # Center frequency\n",
    "Fs = 768e3        # Sampling rate\n",
    "N_fft = 1024      # Number of FFT channels\n",
    "\n",
    "# Generate array of channel frequencies\n",
    "f = (np.fft.fftshift(np.fft.fftfreq(N_fft, 1/Fs)) + f0) / 1e6\n",
    "\n",
    "# Time tag each sample\n",
    "t = np.arange(len(d)) / Fs\n",
    "\n",
    "# Reshape so we can do an FFT over an axis\n",
    "d_fft = d.reshape((-1, N_fft))\n",
    "D = np.fft.fftshift(np.fft.fft(d_fft, axis=1))\n",
    "\n",
    "# Time tag each sample coming from a channel\n",
    "T = np.arange(len(D)) / Fs * N_fft\n",
    "\n",
    "# Now convert into power spectral density\n",
    "# 1. Reshape to (N_timestep, N_int_per_timestep, N_fft)\n",
    "# 2. Square\n",
    "# 3. Sum over N_int_per_timestep axis\n",
    "N_time_PSD = 1000\n",
    "PSD = (np.abs(D.reshape((N_time_PSD, -1, N_fft)))**2).mean(axis=1) # N_fft = 1024 - > (1000, 15, 1024) where initial shape was 15 million or so\n",
    "\n",
    "# Create overall spectrum\n",
    "spec = PSD.mean(axis=0)\n",
    "\n",
    "# Find peaks (note: I hand-tuned prominence)\n",
    "p = signal.find_peaks(spec, prominence=0.0005)[0]"
   ]
  },
  {
   "cell_type": "code",
   "execution_count": null,
   "metadata": {},
   "outputs": [],
   "source": [
    "plt.figure()\n",
    "plt.imshow(db(PSD), aspect='auto', extent=(f[0], f[-1], T[-1], T[0]))\n",
    "plt.xlabel(\"Frequency [MHz]\")\n",
    "plt.ylabel(\"Elapsed time [s]\")\n",
    "plt.colorbar()\n",
    "plt.show()"
   ]
  },
  {
   "cell_type": "code",
   "execution_count": null,
   "metadata": {},
   "outputs": [],
   "source": [
    "plt.figure()\n",
    "plt.plot(f, db(spec))\n",
    "plt.scatter(f[p], db(spec)[p], marker='x', color='#cc0000')\n",
    "plt.xlabel(\"Frequency [MHz]\")\n",
    "plt.ylabel(\"Power dB(counts)\")\n",
    "plt.show()"
   ]
  },
  {
   "cell_type": "code",
   "execution_count": null,
   "metadata": {},
   "outputs": [],
   "source": [
    "# Extract the time series for each channel identified\n",
    "t_kiwis = []\n",
    "for idx in p:\n",
    "    t_kiwis.append(D[:, idx])\n",
    "\n",
    "# And extract the carrier frequencies\n",
    "f_kiwis = f[p]"
   ]
  },
  {
   "cell_type": "code",
   "execution_count": null,
   "metadata": {},
   "outputs": [],
   "source": [
    "plt.figure(figsize=(6, len(p) * 2))\n",
    "\n",
    "for ii, tk in enumerate(t_kiwis):\n",
    "    plt.subplot(len(p), 1, ii+1)\n",
    "    plt.plot(T, np.abs(tk))\n",
    "    plt.title(f\"Kiwi {ii+1}, ({f_kiwis[ii]:.3f} MHz)\")\n",
    "    plt.xlabel(\"Time [s]\")\n",
    "    \n",
    "plt.tight_layout()"
   ]
  }
 ],
 "metadata": {
  "kernelspec": {
   "display_name": "andrej",
   "language": "python",
   "name": "python3"
  },
  "language_info": {
   "codemirror_mode": {
    "name": "ipython",
    "version": 3
   },
   "file_extension": ".py",
   "mimetype": "text/x-python",
   "name": "python",
   "nbconvert_exporter": "python",
   "pygments_lexer": "ipython3",
   "version": "3.11.9"
  }
 },
 "nbformat": 4,
 "nbformat_minor": 2
}
