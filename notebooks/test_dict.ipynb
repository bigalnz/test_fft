{
 "cells": [
  {
   "cell_type": "code",
   "execution_count": 4,
   "id": "25e12fba",
   "metadata": {},
   "outputs": [
    {
     "name": "stdout",
     "output_type": "stream",
     "text": [
      "Time = 6.723403930664062e-05\n",
      "[113, 100]\n"
     ]
    }
   ],
   "source": [
    "import numpy as np\n",
    "import time\n",
    "\n",
    "# center freq and samp rate are user configurable\n",
    "#center freq\n",
    "f0 = 160.425e6\n",
    "# sampling rate \n",
    "Fs = 768e6\n",
    "\n",
    "# freq chart here : https://github.com/bigalnz/test_fft/blob/freq_switch/src/kiwitracker/freq_chart.txt\n",
    "# to be explicit Ch 0 goes from 160.115 to 160.125 etc\n",
    "\n",
    "N_fft = 1024  # Number of FFT channels\n",
    "# Generate array of channel frequencies\n",
    "f = (np.fft.fftshift(np.fft.fftfreq(N_fft, 1 / Fs)) + f0) / 1e6\n",
    "\n",
    "\n",
    "# my crude example is below\n",
    "test = {\n",
    "\"160.120\": [ 99, 100, 101, 102, 103, 104, 105, 106, 107, 108, 109, 110, 111, 112],\n",
    "\"160.121\": [113, 114, 115, 116, 117, 118, 119, 120, 121, 122, 123, 124, 125, 126],\n",
    "}\n",
    "\n",
    "# how to check all the arrays in the dictionary values (assuming there is more than one)\n",
    "\n",
    "x = [113, 989, 100, 999]\n",
    "\n",
    "\n",
    "# Flatten all values in the dictionary into a set for fast lookup\n",
    "all_values = set(v for sublist in test.values() for v in sublist)\n",
    "\n",
    "start = time.time()\n",
    "# Filter x to include only values found in the dictionary\n",
    "x = [val for val in x if val in all_values]\n",
    "finish = time.time()\n",
    "\n",
    "print(f\"Time = \" + str(finish - start))\n",
    "\n",
    "print(x)"
   ]
  }
 ],
 "metadata": {
  "kernelspec": {
   "display_name": "kiwitracker",
   "language": "python",
   "name": "python3"
  },
  "language_info": {
   "codemirror_mode": {
    "name": "ipython",
    "version": 3
   },
   "file_extension": ".py",
   "mimetype": "text/x-python",
   "name": "python",
   "nbconvert_exporter": "python",
   "pygments_lexer": "ipython3",
   "version": "3.11.2"
  }
 },
 "nbformat": 4,
 "nbformat_minor": 5
}
