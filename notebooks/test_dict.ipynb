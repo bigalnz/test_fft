{
 "cells": [
  {
   "cell_type": "code",
   "execution_count": null,
   "id": "25e12fba",
   "metadata": {},
   "outputs": [],
   "source": [
    "import numpy as np\n",
    "\n",
    "# center freq and samp rate are user configurable\n",
    "#center freq\n",
    "f0 = 160.425e6\n",
    "# sampling rate \n",
    "Fs = 768e6\n",
    "\n",
    "# freq chart here : https://github.com/bigalnz/test_fft/blob/freq_switch/src/kiwitracker/freq_chart.txt\n",
    "# to be explicit Ch 0 goes from 160.115 to 160.125 etc\n",
    "\n",
    "N_fft = 1024  # Number of FFT channels\n",
    "# Generate array of channel frequencies\n",
    "f = (np.fft.fftshift(np.fft.fftfreq(N_fft, 1 / Fs)) + f0) / 1e6\n",
    "\n",
    "\n",
    "# my crude example is below\n",
    "test = {\n",
    "\"160.120\": [ 99, 100, 101, 102, 103, 104, 105, 106, 107, 108, 109, 110, 111, 112],\n",
    "}\n",
    "\n",
    "# how to check all the arrays in the dictionary values (assuming there is more than one)\n",
    "\n",
    "\n",
    "\n"
   ]
  }
 ],
 "metadata": {
  "kernelspec": {
   "display_name": "kiwitracker",
   "language": "python",
   "name": "python3"
  },
  "language_info": {
   "codemirror_mode": {
    "name": "ipython",
    "version": 3
   },
   "file_extension": ".py",
   "mimetype": "text/x-python",
   "name": "python",
   "nbconvert_exporter": "python",
   "pygments_lexer": "ipython3",
   "version": "3.11.2"
  }
 },
 "nbformat": 4,
 "nbformat_minor": 5
}
