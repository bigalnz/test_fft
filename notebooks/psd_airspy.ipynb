{
 "cells": [
  {
   "cell_type": "code",
   "execution_count": null,
   "metadata": {},
   "outputs": [],
   "source": [
    "from scipy.io import wavfile\n",
    "\n",
    "#samples = wavfile.read('../data/test_airspyhf.raw')\n",
    "samples = np.fromfile('../data/test_airspyhf.fc32', dtype=np.complex64)\n",
    "sample_rate = 768000\n",
    "center_freq = 160500000\n",
    "size = len(samples)\n",
    "x = samples\n",
    "\n",
    "fft_freqs = np.linspace(sample_rate / -2, sample_rate / 2, 1024) + center_freq\n",
    "psd = plt.psd(x, NFFT=1024, Fs=768000, Fc=160500000)\n",
    "#plt.annotate(\"Test\", xy=(160338000, -115))\n",
    "plt.show()\n",
    "\n",
    "t = np.arange(len(x))/768000\n",
    "h = signal.firwin(501, 0.02, pass_zero=True)\n",
    "p = np.exp(2j*np.pi*t*-101530)\n",
    "\n",
    "x = x * p\n",
    "x = signal.convolve(x, h, 'same')\n",
    "x = x[::100]\n",
    "x = np.abs(x)\n",
    "x = signal.convolve(x, [1]*189, 'same')/189\n",
    "\n",
    "plt.figure(figsize=(45,6))\n",
    "plt.plot(x)\n",
    "plt.show()"
   ]
  }
 ],
 "metadata": {
  "language_info": {
   "name": "python"
  }
 },
 "nbformat": 4,
 "nbformat_minor": 2
}
